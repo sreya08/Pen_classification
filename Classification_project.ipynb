{
 "cells": [
  {
   "cell_type": "code",
   "execution_count": 1,
   "metadata": {},
   "outputs": [],
   "source": [
    "#import libraries\n",
    "from keras.models import Sequential\n",
    "from keras.layers import Dense\n",
    "from keras.layers import Conv2D\n",
    "from keras.layers import MaxPooling2D\n",
    "from keras.layers import Flatten\n",
    "import PIL.Image"
   ]
  },
  {
   "cell_type": "code",
   "execution_count": 2,
   "metadata": {},
   "outputs": [],
   "source": [
    "#creating model\n",
    "model=Sequential()"
   ]
  },
  {
   "cell_type": "code",
   "execution_count": 3,
   "metadata": {},
   "outputs": [],
   "source": [
    "#adding convolution Layers\n",
    "model.add(Conv2D(32,(3,3),input_shape=(128,128,3),activation='relu'))\n",
    "model.add(Conv2D(32,(3,3),input_shape=(128,128,3),activation='relu'))\n",
    "model.add(MaxPooling2D(pool_size=(2,2)))\n",
    "model.add(MaxPooling2D(pool_size=(2,2)))\n",
    "model.add(Flatten())"
   ]
  },
  {
   "cell_type": "code",
   "execution_count": 4,
   "metadata": {},
   "outputs": [],
   "source": [
    "model.add(Dense(activation=\"relu\", units=250, kernel_initializer=\"random_uniform\"))"
   ]
  },
  {
   "cell_type": "code",
   "execution_count": 5,
   "metadata": {},
   "outputs": [],
   "source": [
    "model.add(Dense(activation=\"softmax\", units=3, kernel_initializer=\"random_uniform\"))"
   ]
  },
  {
   "cell_type": "code",
   "execution_count": 14,
   "metadata": {},
   "outputs": [],
   "source": [
    "#compileing the model\n",
    "model.compile(optimizer='adam',loss='categorical_crossentropy',metrics=['accuracy'])"
   ]
  },
  {
   "cell_type": "code",
   "execution_count": 7,
   "metadata": {},
   "outputs": [],
   "source": [
    "#reshaping the imahes to fit the model and loading the data set\n",
    "from keras.preprocessing.image import ImageDataGenerator"
   ]
  },
  {
   "cell_type": "code",
   "execution_count": 8,
   "metadata": {},
   "outputs": [],
   "source": [
    "train_datagen=ImageDataGenerator(rescale=1./255,shear_range=0.2,zoom_range=0.2,horizontal_flip=True)\n",
    "test_datagen = ImageDataGenerator(rescale=1./255)"
   ]
  },
  {
   "cell_type": "code",
   "execution_count": 9,
   "metadata": {},
   "outputs": [
    {
     "name": "stdout",
     "output_type": "stream",
     "text": [
      "Found 208 images belonging to 3 classes.\n",
      "Found 35 images belonging to 3 classes.\n"
     ]
    }
   ],
   "source": [
    "x_train = train_datagen.flow_from_directory(r'C:\\Users\\shrey\\Desktop\\assesment\\Project\\dataset\\training_set',target_size=(128,128),batch_size=32,class_mode='categorical')\n",
    "x_test = train_datagen.flow_from_directory(r'C:\\Users\\shrey\\Desktop\\assesment\\Project\\dataset\\test_set',target_size=(128,128),batch_size=32,class_mode='categorical') "
   ]
  },
  {
   "cell_type": "code",
   "execution_count": 10,
   "metadata": {},
   "outputs": [
    {
     "name": "stdout",
     "output_type": "stream",
     "text": [
      "{'Click Pen': 0, 'Fountain': 1, 'Marker': 2}\n"
     ]
    }
   ],
   "source": [
    "print(x_train.class_indices)"
   ]
  },
  {
   "cell_type": "code",
   "execution_count": 11,
   "metadata": {},
   "outputs": [
    {
     "name": "stdout",
     "output_type": "stream",
     "text": [
      "<class 'keras.preprocessing.image.DirectoryIterator'>\n"
     ]
    }
   ],
   "source": [
    "print(type(x_train))"
   ]
  },
  {
   "cell_type": "code",
   "execution_count": 12,
   "metadata": {},
   "outputs": [
    {
     "name": "stdout",
     "output_type": "stream",
     "text": [
      "Epoch 1/30\n",
      "7/7 [==============================] - 6s 786ms/step - loss: 2.0421 - accuracy: 0.2981 - val_loss: 1.2132 - val_accuracy: 0.3429\n",
      "Epoch 2/30\n",
      "7/7 [==============================] - 4s 616ms/step - loss: 1.1423 - accuracy: 0.3317 - val_loss: 1.0970 - val_accuracy: 0.4286\n",
      "Epoch 3/30\n",
      "7/7 [==============================] - 5s 703ms/step - loss: 1.0930 - accuracy: 0.3413 - val_loss: 1.0927 - val_accuracy: 0.3714\n",
      "Epoch 4/30\n",
      "7/7 [==============================] - 5s 675ms/step - loss: 1.0861 - accuracy: 0.4327 - val_loss: 1.0917 - val_accuracy: 0.3714\n",
      "Epoch 5/30\n",
      "7/7 [==============================] - 5s 699ms/step - loss: 1.0567 - accuracy: 0.4279 - val_loss: 1.0703 - val_accuracy: 0.4000\n",
      "Epoch 6/30\n",
      "7/7 [==============================] - 5s 673ms/step - loss: 1.0182 - accuracy: 0.4663 - val_loss: 1.0760 - val_accuracy: 0.4571\n",
      "Epoch 7/30\n",
      "7/7 [==============================] - 5s 636ms/step - loss: 0.9940 - accuracy: 0.5817 - val_loss: 1.0826 - val_accuracy: 0.4571\n",
      "Epoch 8/30\n",
      "7/7 [==============================] - 5s 633ms/step - loss: 0.9238 - accuracy: 0.5625 - val_loss: 1.0627 - val_accuracy: 0.4571\n",
      "Epoch 9/30\n",
      "7/7 [==============================] - 5s 654ms/step - loss: 0.9345 - accuracy: 0.5962 - val_loss: 1.0773 - val_accuracy: 0.4571\n",
      "Epoch 10/30\n",
      "7/7 [==============================] - 5s 636ms/step - loss: 0.8456 - accuracy: 0.6346 - val_loss: 1.1217 - val_accuracy: 0.4000\n",
      "Epoch 11/30\n",
      "7/7 [==============================] - 5s 698ms/step - loss: 0.7879 - accuracy: 0.6923 - val_loss: 1.0627 - val_accuracy: 0.4571\n",
      "Epoch 12/30\n",
      "7/7 [==============================] - 5s 688ms/step - loss: 0.7118 - accuracy: 0.7404 - val_loss: 1.0676 - val_accuracy: 0.4286\n",
      "Epoch 13/30\n",
      "7/7 [==============================] - 5s 676ms/step - loss: 0.6438 - accuracy: 0.7596 - val_loss: 1.2753 - val_accuracy: 0.4857\n",
      "Epoch 14/30\n",
      "7/7 [==============================] - 5s 742ms/step - loss: 0.6176 - accuracy: 0.6923 - val_loss: 1.1865 - val_accuracy: 0.4571\n",
      "Epoch 15/30\n",
      "7/7 [==============================] - 5s 656ms/step - loss: 0.6501 - accuracy: 0.7260 - val_loss: 1.1057 - val_accuracy: 0.4286\n",
      "Epoch 16/30\n",
      "7/7 [==============================] - 5s 670ms/step - loss: 0.5874 - accuracy: 0.7885 - val_loss: 0.9371 - val_accuracy: 0.6286\n",
      "Epoch 17/30\n",
      "7/7 [==============================] - 5s 723ms/step - loss: 0.5181 - accuracy: 0.8269 - val_loss: 1.0008 - val_accuracy: 0.4857\n",
      "Epoch 18/30\n",
      "7/7 [==============================] - 5s 669ms/step - loss: 0.4196 - accuracy: 0.8606 - val_loss: 1.1423 - val_accuracy: 0.4571\n",
      "Epoch 19/30\n",
      "7/7 [==============================] - 5s 641ms/step - loss: 0.4544 - accuracy: 0.8221 - val_loss: 1.1389 - val_accuracy: 0.5143\n",
      "Epoch 20/30\n",
      "7/7 [==============================] - 5s 706ms/step - loss: 0.5106 - accuracy: 0.8029 - val_loss: 1.1903 - val_accuracy: 0.5714\n",
      "Epoch 21/30\n",
      "7/7 [==============================] - 5s 629ms/step - loss: 0.3616 - accuracy: 0.8846 - val_loss: 1.1590 - val_accuracy: 0.5143\n",
      "Epoch 22/30\n",
      "7/7 [==============================] - 6s 838ms/step - loss: 0.2901 - accuracy: 0.9087 - val_loss: 1.3830 - val_accuracy: 0.4857\n",
      "Epoch 23/30\n",
      "7/7 [==============================] - 6s 915ms/step - loss: 0.3007 - accuracy: 0.8702 - val_loss: 1.4535 - val_accuracy: 0.5143\n",
      "Epoch 24/30\n",
      "7/7 [==============================] - 6s 755ms/step - loss: 0.3068 - accuracy: 0.8654 - val_loss: 1.3050 - val_accuracy: 0.6571\n",
      "Epoch 25/30\n",
      "7/7 [==============================] - 5s 799ms/step - loss: 0.2705 - accuracy: 0.9231 - val_loss: 1.2932 - val_accuracy: 0.4857\n",
      "Epoch 26/30\n",
      "7/7 [==============================] - 6s 787ms/step - loss: 0.2519 - accuracy: 0.9183 - val_loss: 1.4826 - val_accuracy: 0.5429\n",
      "Epoch 27/30\n",
      "7/7 [==============================] - 6s 896ms/step - loss: 0.2416 - accuracy: 0.9375 - val_loss: 1.2821 - val_accuracy: 0.5143\n",
      "Epoch 28/30\n",
      "7/7 [==============================] - 6s 876ms/step - loss: 0.2588 - accuracy: 0.9038 - val_loss: 1.3081 - val_accuracy: 0.5429\n",
      "Epoch 29/30\n",
      "7/7 [==============================] - 8s 1s/step - loss: 0.1828 - accuracy: 0.9423 - val_loss: 1.3326 - val_accuracy: 0.6000\n",
      "Epoch 30/30\n",
      "7/7 [==============================] - 6s 872ms/step - loss: 0.2334 - accuracy: 0.9135 - val_loss: 1.3438 - val_accuracy: 0.6286\n"
     ]
    },
    {
     "data": {
      "text/plain": [
       "<keras.callbacks.History at 0x1c03cce0088>"
      ]
     },
     "execution_count": 12,
     "metadata": {},
     "output_type": "execute_result"
    }
   ],
   "source": [
    "#Training the model\n",
    "model.fit(x_train,epochs=30,validation_data=x_test)"
   ]
  },
  {
   "cell_type": "code",
   "execution_count": 13,
   "metadata": {},
   "outputs": [],
   "source": [
    "#Saving the Model\n",
    "model.save('Pen_Classification.h5')"
   ]
  }
 ],
 "metadata": {
  "kernelspec": {
   "display_name": "Python 3",
   "language": "python",
   "name": "python3"
  },
  "language_info": {
   "codemirror_mode": {
    "name": "ipython",
    "version": 3
   },
   "file_extension": ".py",
   "mimetype": "text/x-python",
   "name": "python",
   "nbconvert_exporter": "python",
   "pygments_lexer": "ipython3",
   "version": "3.7.6"
  }
 },
 "nbformat": 4,
 "nbformat_minor": 5
}
